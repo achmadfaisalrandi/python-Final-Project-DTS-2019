{
 "cells": [
  {
   "cell_type": "code",
   "execution_count": 25,
   "metadata": {},
   "outputs": [],
   "source": [
    "# Mengimpor library\n",
    "import numpy as np\n",
    "import matplotlib.pyplot as plt\n",
    "import pandas as pd\n",
    "from numpy import *\n",
    "from scipy.interpolate import *\n",
    "from matplotlib.pyplot import *\n",
    "%matplotlib inline\n",
    "from sklearn.model_selection import train_test_split"
   ]
  },
  {
   "cell_type": "code",
   "execution_count": 27,
   "metadata": {},
   "outputs": [
    {
     "data": {
      "text/html": [
       "<div>\n",
       "<style scoped>\n",
       "    .dataframe tbody tr th:only-of-type {\n",
       "        vertical-align: middle;\n",
       "    }\n",
       "\n",
       "    .dataframe tbody tr th {\n",
       "        vertical-align: top;\n",
       "    }\n",
       "\n",
       "    .dataframe thead th {\n",
       "        text-align: right;\n",
       "    }\n",
       "</style>\n",
       "<table border=\"1\" class=\"dataframe\">\n",
       "  <thead>\n",
       "    <tr style=\"text-align: right;\">\n",
       "      <th></th>\n",
       "      <th>ID</th>\n",
       "      <th>Alasan ketidakhadiran</th>\n",
       "      <th>Bulan Absen</th>\n",
       "      <th>Hari di Minggu Ini</th>\n",
       "      <th>Musim</th>\n",
       "      <th>Biaya Transportasi</th>\n",
       "      <th>Jarak Rumah ke Tempat Kerja</th>\n",
       "      <th>Waktu Pelayanan</th>\n",
       "      <th>Usia</th>\n",
       "      <th>Rata-rata Beban Kerja/hari</th>\n",
       "      <th>...</th>\n",
       "      <th>Jumlah Anak</th>\n",
       "      <th>Pemabuk</th>\n",
       "      <th>Perokok</th>\n",
       "      <th>Jumlah Hewan Piaraan</th>\n",
       "      <th>Berat</th>\n",
       "      <th>Tinggi</th>\n",
       "      <th>Indeks Masa Tubuh</th>\n",
       "      <th>Jumlah Absen dalam Jam</th>\n",
       "      <th>Label_Kategori</th>\n",
       "      <th>Kategori</th>\n",
       "    </tr>\n",
       "  </thead>\n",
       "  <tbody>\n",
       "    <tr>\n",
       "      <th>0</th>\n",
       "      <td>11</td>\n",
       "      <td>26</td>\n",
       "      <td>7</td>\n",
       "      <td>3</td>\n",
       "      <td>1</td>\n",
       "      <td>289</td>\n",
       "      <td>36</td>\n",
       "      <td>13</td>\n",
       "      <td>33</td>\n",
       "      <td>239.554</td>\n",
       "      <td>...</td>\n",
       "      <td>2</td>\n",
       "      <td>1</td>\n",
       "      <td>0</td>\n",
       "      <td>1</td>\n",
       "      <td>90</td>\n",
       "      <td>172</td>\n",
       "      <td>30</td>\n",
       "      <td>4</td>\n",
       "      <td>4</td>\n",
       "      <td>Obesitas</td>\n",
       "    </tr>\n",
       "    <tr>\n",
       "      <th>1</th>\n",
       "      <td>36</td>\n",
       "      <td>0</td>\n",
       "      <td>7</td>\n",
       "      <td>3</td>\n",
       "      <td>1</td>\n",
       "      <td>118</td>\n",
       "      <td>13</td>\n",
       "      <td>18</td>\n",
       "      <td>50</td>\n",
       "      <td>239.554</td>\n",
       "      <td>...</td>\n",
       "      <td>1</td>\n",
       "      <td>1</td>\n",
       "      <td>0</td>\n",
       "      <td>0</td>\n",
       "      <td>98</td>\n",
       "      <td>178</td>\n",
       "      <td>31</td>\n",
       "      <td>0</td>\n",
       "      <td>4</td>\n",
       "      <td>Obesitas</td>\n",
       "    </tr>\n",
       "    <tr>\n",
       "      <th>2</th>\n",
       "      <td>3</td>\n",
       "      <td>23</td>\n",
       "      <td>7</td>\n",
       "      <td>4</td>\n",
       "      <td>1</td>\n",
       "      <td>179</td>\n",
       "      <td>51</td>\n",
       "      <td>18</td>\n",
       "      <td>38</td>\n",
       "      <td>239.554</td>\n",
       "      <td>...</td>\n",
       "      <td>0</td>\n",
       "      <td>1</td>\n",
       "      <td>0</td>\n",
       "      <td>0</td>\n",
       "      <td>89</td>\n",
       "      <td>170</td>\n",
       "      <td>31</td>\n",
       "      <td>2</td>\n",
       "      <td>4</td>\n",
       "      <td>Obesitas</td>\n",
       "    </tr>\n",
       "    <tr>\n",
       "      <th>3</th>\n",
       "      <td>7</td>\n",
       "      <td>7</td>\n",
       "      <td>7</td>\n",
       "      <td>5</td>\n",
       "      <td>1</td>\n",
       "      <td>279</td>\n",
       "      <td>5</td>\n",
       "      <td>14</td>\n",
       "      <td>39</td>\n",
       "      <td>239.554</td>\n",
       "      <td>...</td>\n",
       "      <td>2</td>\n",
       "      <td>1</td>\n",
       "      <td>1</td>\n",
       "      <td>0</td>\n",
       "      <td>68</td>\n",
       "      <td>168</td>\n",
       "      <td>24</td>\n",
       "      <td>4</td>\n",
       "      <td>3</td>\n",
       "      <td>Berlebih</td>\n",
       "    </tr>\n",
       "    <tr>\n",
       "      <th>4</th>\n",
       "      <td>11</td>\n",
       "      <td>23</td>\n",
       "      <td>7</td>\n",
       "      <td>5</td>\n",
       "      <td>1</td>\n",
       "      <td>289</td>\n",
       "      <td>36</td>\n",
       "      <td>13</td>\n",
       "      <td>33</td>\n",
       "      <td>239.554</td>\n",
       "      <td>...</td>\n",
       "      <td>2</td>\n",
       "      <td>1</td>\n",
       "      <td>0</td>\n",
       "      <td>1</td>\n",
       "      <td>90</td>\n",
       "      <td>172</td>\n",
       "      <td>30</td>\n",
       "      <td>2</td>\n",
       "      <td>4</td>\n",
       "      <td>Obesitas</td>\n",
       "    </tr>\n",
       "  </tbody>\n",
       "</table>\n",
       "<p>5 rows × 23 columns</p>\n",
       "</div>"
      ],
      "text/plain": [
       "   ID  Alasan ketidakhadiran  Bulan Absen  Hari di Minggu Ini  Musim  \\\n",
       "0  11                     26            7                   3      1   \n",
       "1  36                      0            7                   3      1   \n",
       "2   3                     23            7                   4      1   \n",
       "3   7                      7            7                   5      1   \n",
       "4  11                     23            7                   5      1   \n",
       "\n",
       "   Biaya Transportasi  Jarak Rumah ke Tempat Kerja  Waktu Pelayanan  Usia  \\\n",
       "0                 289                           36               13    33   \n",
       "1                 118                           13               18    50   \n",
       "2                 179                           51               18    38   \n",
       "3                 279                            5               14    39   \n",
       "4                 289                           36               13    33   \n",
       "\n",
       "   Rata-rata Beban Kerja/hari  ...  Jumlah Anak  Pemabuk  Perokok  \\\n",
       "0                     239.554  ...            2        1        0   \n",
       "1                     239.554  ...            1        1        0   \n",
       "2                     239.554  ...            0        1        0   \n",
       "3                     239.554  ...            2        1        1   \n",
       "4                     239.554  ...            2        1        0   \n",
       "\n",
       "   Jumlah Hewan Piaraan  Berat  Tinggi  Indeks Masa Tubuh  \\\n",
       "0                     1     90     172                 30   \n",
       "1                     0     98     178                 31   \n",
       "2                     0     89     170                 31   \n",
       "3                     0     68     168                 24   \n",
       "4                     1     90     172                 30   \n",
       "\n",
       "   Jumlah Absen dalam Jam  Label_Kategori  Kategori  \n",
       "0                       4               4  Obesitas  \n",
       "1                       0               4  Obesitas  \n",
       "2                       2               4  Obesitas  \n",
       "3                       4               3  Berlebih  \n",
       "4                       2               4  Obesitas  \n",
       "\n",
       "[5 rows x 23 columns]"
      ]
     },
     "execution_count": 27,
     "metadata": {},
     "output_type": "execute_result"
    }
   ],
   "source": [
    "# Mengimpor dataset\n",
    "dataset = pd.read_csv('Absenteeism_at_work.csv')\n",
    "dataset.head()"
   ]
  },
  {
   "cell_type": "code",
   "execution_count": 28,
   "metadata": {},
   "outputs": [
    {
     "data": {
      "text/plain": [
       "ID                             False\n",
       "Alasan ketidakhadiran          False\n",
       "Bulan Absen                    False\n",
       "Hari di Minggu Ini             False\n",
       "Musim                          False\n",
       "Biaya Transportasi             False\n",
       "Jarak Rumah ke Tempat Kerja    False\n",
       "Waktu Pelayanan                False\n",
       "Usia                           False\n",
       "Rata-rata Beban Kerja/hari     False\n",
       "Target yang Tercapai           False\n",
       "Ketidakdisiplinan              False\n",
       "Pendidikan                     False\n",
       "Jumlah Anak                    False\n",
       "Pemabuk                        False\n",
       "Perokok                        False\n",
       "Jumlah Hewan Piaraan           False\n",
       "Berat                          False\n",
       "Tinggi                         False\n",
       "Indeks Masa Tubuh              False\n",
       "Jumlah Absen dalam Jam         False\n",
       "Label_Kategori                 False\n",
       "Kategori                       False\n",
       "dtype: bool"
      ]
     },
     "execution_count": 28,
     "metadata": {},
     "output_type": "execute_result"
    }
   ],
   "source": [
    "#Pre-processing\n",
    "#mengecek apakah ada data yang bernilai NUll & NAs(True)\n",
    "dataset.isna().any()"
   ]
  },
  {
   "cell_type": "code",
   "execution_count": 29,
   "metadata": {},
   "outputs": [
    {
     "data": {
      "text/plain": [
       "ID                             36\n",
       "Alasan ketidakhadiran          28\n",
       "Bulan Absen                    13\n",
       "Hari di Minggu Ini              5\n",
       "Musim                           4\n",
       "Biaya Transportasi             24\n",
       "Jarak Rumah ke Tempat Kerja    25\n",
       "Waktu Pelayanan                18\n",
       "Usia                           22\n",
       "Rata-rata Beban Kerja/hari     38\n",
       "Target yang Tercapai           13\n",
       "Ketidakdisiplinan               2\n",
       "Pendidikan                      4\n",
       "Jumlah Anak                     5\n",
       "Pemabuk                         2\n",
       "Perokok                         2\n",
       "Jumlah Hewan Piaraan            6\n",
       "Berat                          26\n",
       "Tinggi                         14\n",
       "Indeks Masa Tubuh              17\n",
       "Jumlah Absen dalam Jam         19\n",
       "Label_Kategori                  3\n",
       "Kategori                        3\n",
       "dtype: int64"
      ]
     },
     "execution_count": 29,
     "metadata": {},
     "output_type": "execute_result"
    }
   ],
   "source": [
    "dataset.nunique()"
   ]
  },
  {
   "cell_type": "code",
   "execution_count": 30,
   "metadata": {},
   "outputs": [
    {
     "data": {
      "text/html": [
       "<div>\n",
       "<style scoped>\n",
       "    .dataframe tbody tr th:only-of-type {\n",
       "        vertical-align: middle;\n",
       "    }\n",
       "\n",
       "    .dataframe tbody tr th {\n",
       "        vertical-align: top;\n",
       "    }\n",
       "\n",
       "    .dataframe thead th {\n",
       "        text-align: right;\n",
       "    }\n",
       "</style>\n",
       "<table border=\"1\" class=\"dataframe\">\n",
       "  <thead>\n",
       "    <tr style=\"text-align: right;\">\n",
       "      <th></th>\n",
       "      <th>ID</th>\n",
       "      <th>Alasan ketidakhadiran</th>\n",
       "      <th>Bulan Absen</th>\n",
       "      <th>Hari di Minggu Ini</th>\n",
       "      <th>Musim</th>\n",
       "      <th>Biaya Transportasi</th>\n",
       "      <th>Jarak Rumah ke Tempat Kerja</th>\n",
       "      <th>Waktu Pelayanan</th>\n",
       "      <th>Usia</th>\n",
       "      <th>Rata-rata Beban Kerja/hari</th>\n",
       "      <th>...</th>\n",
       "      <th>Pendidikan</th>\n",
       "      <th>Jumlah Anak</th>\n",
       "      <th>Pemabuk</th>\n",
       "      <th>Perokok</th>\n",
       "      <th>Jumlah Hewan Piaraan</th>\n",
       "      <th>Berat</th>\n",
       "      <th>Tinggi</th>\n",
       "      <th>Indeks Masa Tubuh</th>\n",
       "      <th>Jumlah Absen dalam Jam</th>\n",
       "      <th>Label_Kategori</th>\n",
       "    </tr>\n",
       "  </thead>\n",
       "  <tbody>\n",
       "    <tr>\n",
       "      <th>count</th>\n",
       "      <td>740.000000</td>\n",
       "      <td>740.000000</td>\n",
       "      <td>740.000000</td>\n",
       "      <td>740.000000</td>\n",
       "      <td>740.000000</td>\n",
       "      <td>740.000000</td>\n",
       "      <td>740.000000</td>\n",
       "      <td>740.000000</td>\n",
       "      <td>740.000000</td>\n",
       "      <td>740.000000</td>\n",
       "      <td>...</td>\n",
       "      <td>740.000000</td>\n",
       "      <td>740.000000</td>\n",
       "      <td>740.000000</td>\n",
       "      <td>740.000000</td>\n",
       "      <td>740.000000</td>\n",
       "      <td>740.000000</td>\n",
       "      <td>740.000000</td>\n",
       "      <td>740.000000</td>\n",
       "      <td>740.000000</td>\n",
       "      <td>740.000000</td>\n",
       "    </tr>\n",
       "    <tr>\n",
       "      <th>mean</th>\n",
       "      <td>18.017568</td>\n",
       "      <td>19.216216</td>\n",
       "      <td>6.324324</td>\n",
       "      <td>3.914865</td>\n",
       "      <td>2.544595</td>\n",
       "      <td>221.329730</td>\n",
       "      <td>29.631081</td>\n",
       "      <td>12.554054</td>\n",
       "      <td>36.450000</td>\n",
       "      <td>271.490235</td>\n",
       "      <td>...</td>\n",
       "      <td>1.291892</td>\n",
       "      <td>1.018919</td>\n",
       "      <td>0.567568</td>\n",
       "      <td>0.072973</td>\n",
       "      <td>0.745946</td>\n",
       "      <td>79.035135</td>\n",
       "      <td>172.114865</td>\n",
       "      <td>26.677027</td>\n",
       "      <td>6.924324</td>\n",
       "      <td>3.190541</td>\n",
       "    </tr>\n",
       "    <tr>\n",
       "      <th>std</th>\n",
       "      <td>11.021247</td>\n",
       "      <td>8.433406</td>\n",
       "      <td>3.436287</td>\n",
       "      <td>1.421675</td>\n",
       "      <td>1.111831</td>\n",
       "      <td>66.952223</td>\n",
       "      <td>14.836788</td>\n",
       "      <td>4.384873</td>\n",
       "      <td>6.478772</td>\n",
       "      <td>39.058116</td>\n",
       "      <td>...</td>\n",
       "      <td>0.673238</td>\n",
       "      <td>1.098489</td>\n",
       "      <td>0.495749</td>\n",
       "      <td>0.260268</td>\n",
       "      <td>1.318258</td>\n",
       "      <td>12.883211</td>\n",
       "      <td>6.034995</td>\n",
       "      <td>4.285452</td>\n",
       "      <td>13.330998</td>\n",
       "      <td>0.658178</td>\n",
       "    </tr>\n",
       "    <tr>\n",
       "      <th>min</th>\n",
       "      <td>1.000000</td>\n",
       "      <td>0.000000</td>\n",
       "      <td>0.000000</td>\n",
       "      <td>2.000000</td>\n",
       "      <td>1.000000</td>\n",
       "      <td>118.000000</td>\n",
       "      <td>5.000000</td>\n",
       "      <td>1.000000</td>\n",
       "      <td>27.000000</td>\n",
       "      <td>205.917000</td>\n",
       "      <td>...</td>\n",
       "      <td>1.000000</td>\n",
       "      <td>0.000000</td>\n",
       "      <td>0.000000</td>\n",
       "      <td>0.000000</td>\n",
       "      <td>0.000000</td>\n",
       "      <td>56.000000</td>\n",
       "      <td>163.000000</td>\n",
       "      <td>19.000000</td>\n",
       "      <td>0.000000</td>\n",
       "      <td>2.000000</td>\n",
       "    </tr>\n",
       "    <tr>\n",
       "      <th>25%</th>\n",
       "      <td>9.000000</td>\n",
       "      <td>13.000000</td>\n",
       "      <td>3.000000</td>\n",
       "      <td>3.000000</td>\n",
       "      <td>2.000000</td>\n",
       "      <td>179.000000</td>\n",
       "      <td>16.000000</td>\n",
       "      <td>9.000000</td>\n",
       "      <td>31.000000</td>\n",
       "      <td>244.387000</td>\n",
       "      <td>...</td>\n",
       "      <td>1.000000</td>\n",
       "      <td>0.000000</td>\n",
       "      <td>0.000000</td>\n",
       "      <td>0.000000</td>\n",
       "      <td>0.000000</td>\n",
       "      <td>69.000000</td>\n",
       "      <td>169.000000</td>\n",
       "      <td>24.000000</td>\n",
       "      <td>2.000000</td>\n",
       "      <td>3.000000</td>\n",
       "    </tr>\n",
       "    <tr>\n",
       "      <th>50%</th>\n",
       "      <td>18.000000</td>\n",
       "      <td>23.000000</td>\n",
       "      <td>6.000000</td>\n",
       "      <td>4.000000</td>\n",
       "      <td>3.000000</td>\n",
       "      <td>225.000000</td>\n",
       "      <td>26.000000</td>\n",
       "      <td>13.000000</td>\n",
       "      <td>37.000000</td>\n",
       "      <td>264.249000</td>\n",
       "      <td>...</td>\n",
       "      <td>1.000000</td>\n",
       "      <td>1.000000</td>\n",
       "      <td>1.000000</td>\n",
       "      <td>0.000000</td>\n",
       "      <td>0.000000</td>\n",
       "      <td>83.000000</td>\n",
       "      <td>170.000000</td>\n",
       "      <td>25.000000</td>\n",
       "      <td>3.000000</td>\n",
       "      <td>3.000000</td>\n",
       "    </tr>\n",
       "    <tr>\n",
       "      <th>75%</th>\n",
       "      <td>28.000000</td>\n",
       "      <td>26.000000</td>\n",
       "      <td>9.000000</td>\n",
       "      <td>5.000000</td>\n",
       "      <td>4.000000</td>\n",
       "      <td>260.000000</td>\n",
       "      <td>50.000000</td>\n",
       "      <td>16.000000</td>\n",
       "      <td>40.000000</td>\n",
       "      <td>294.217000</td>\n",
       "      <td>...</td>\n",
       "      <td>1.000000</td>\n",
       "      <td>2.000000</td>\n",
       "      <td>1.000000</td>\n",
       "      <td>0.000000</td>\n",
       "      <td>1.000000</td>\n",
       "      <td>89.000000</td>\n",
       "      <td>172.000000</td>\n",
       "      <td>31.000000</td>\n",
       "      <td>8.000000</td>\n",
       "      <td>4.000000</td>\n",
       "    </tr>\n",
       "    <tr>\n",
       "      <th>max</th>\n",
       "      <td>36.000000</td>\n",
       "      <td>28.000000</td>\n",
       "      <td>12.000000</td>\n",
       "      <td>6.000000</td>\n",
       "      <td>4.000000</td>\n",
       "      <td>388.000000</td>\n",
       "      <td>52.000000</td>\n",
       "      <td>29.000000</td>\n",
       "      <td>58.000000</td>\n",
       "      <td>378.884000</td>\n",
       "      <td>...</td>\n",
       "      <td>4.000000</td>\n",
       "      <td>4.000000</td>\n",
       "      <td>1.000000</td>\n",
       "      <td>1.000000</td>\n",
       "      <td>8.000000</td>\n",
       "      <td>108.000000</td>\n",
       "      <td>196.000000</td>\n",
       "      <td>38.000000</td>\n",
       "      <td>120.000000</td>\n",
       "      <td>4.000000</td>\n",
       "    </tr>\n",
       "  </tbody>\n",
       "</table>\n",
       "<p>8 rows × 22 columns</p>\n",
       "</div>"
      ],
      "text/plain": [
       "               ID  Alasan ketidakhadiran  Bulan Absen  Hari di Minggu Ini  \\\n",
       "count  740.000000             740.000000   740.000000          740.000000   \n",
       "mean    18.017568              19.216216     6.324324            3.914865   \n",
       "std     11.021247               8.433406     3.436287            1.421675   \n",
       "min      1.000000               0.000000     0.000000            2.000000   \n",
       "25%      9.000000              13.000000     3.000000            3.000000   \n",
       "50%     18.000000              23.000000     6.000000            4.000000   \n",
       "75%     28.000000              26.000000     9.000000            5.000000   \n",
       "max     36.000000              28.000000    12.000000            6.000000   \n",
       "\n",
       "            Musim  Biaya Transportasi  Jarak Rumah ke Tempat Kerja  \\\n",
       "count  740.000000          740.000000                   740.000000   \n",
       "mean     2.544595          221.329730                    29.631081   \n",
       "std      1.111831           66.952223                    14.836788   \n",
       "min      1.000000          118.000000                     5.000000   \n",
       "25%      2.000000          179.000000                    16.000000   \n",
       "50%      3.000000          225.000000                    26.000000   \n",
       "75%      4.000000          260.000000                    50.000000   \n",
       "max      4.000000          388.000000                    52.000000   \n",
       "\n",
       "       Waktu Pelayanan        Usia  Rata-rata Beban Kerja/hari  ...  \\\n",
       "count       740.000000  740.000000                  740.000000  ...   \n",
       "mean         12.554054   36.450000                  271.490235  ...   \n",
       "std           4.384873    6.478772                   39.058116  ...   \n",
       "min           1.000000   27.000000                  205.917000  ...   \n",
       "25%           9.000000   31.000000                  244.387000  ...   \n",
       "50%          13.000000   37.000000                  264.249000  ...   \n",
       "75%          16.000000   40.000000                  294.217000  ...   \n",
       "max          29.000000   58.000000                  378.884000  ...   \n",
       "\n",
       "       Pendidikan  Jumlah Anak     Pemabuk     Perokok  Jumlah Hewan Piaraan  \\\n",
       "count  740.000000   740.000000  740.000000  740.000000            740.000000   \n",
       "mean     1.291892     1.018919    0.567568    0.072973              0.745946   \n",
       "std      0.673238     1.098489    0.495749    0.260268              1.318258   \n",
       "min      1.000000     0.000000    0.000000    0.000000              0.000000   \n",
       "25%      1.000000     0.000000    0.000000    0.000000              0.000000   \n",
       "50%      1.000000     1.000000    1.000000    0.000000              0.000000   \n",
       "75%      1.000000     2.000000    1.000000    0.000000              1.000000   \n",
       "max      4.000000     4.000000    1.000000    1.000000              8.000000   \n",
       "\n",
       "            Berat      Tinggi  Indeks Masa Tubuh  Jumlah Absen dalam Jam  \\\n",
       "count  740.000000  740.000000         740.000000              740.000000   \n",
       "mean    79.035135  172.114865          26.677027                6.924324   \n",
       "std     12.883211    6.034995           4.285452               13.330998   \n",
       "min     56.000000  163.000000          19.000000                0.000000   \n",
       "25%     69.000000  169.000000          24.000000                2.000000   \n",
       "50%     83.000000  170.000000          25.000000                3.000000   \n",
       "75%     89.000000  172.000000          31.000000                8.000000   \n",
       "max    108.000000  196.000000          38.000000              120.000000   \n",
       "\n",
       "       Label_Kategori  \n",
       "count      740.000000  \n",
       "mean         3.190541  \n",
       "std          0.658178  \n",
       "min          2.000000  \n",
       "25%          3.000000  \n",
       "50%          3.000000  \n",
       "75%          4.000000  \n",
       "max          4.000000  \n",
       "\n",
       "[8 rows x 22 columns]"
      ]
     },
     "execution_count": 30,
     "metadata": {},
     "output_type": "execute_result"
    }
   ],
   "source": [
    "dataset.describe()"
   ]
  },
  {
   "cell_type": "code",
   "execution_count": 7,
   "metadata": {},
   "outputs": [],
   "source": [
    "#menentukan variabel x dan y\n",
    "X = dataset['Biaya Transportasi'].values\n",
    "Y = dataset['Jarak Rumah ke Tempat Kerja'].values"
   ]
  },
  {
   "cell_type": "code",
   "execution_count": 8,
   "metadata": {},
   "outputs": [
    {
     "name": "stdout",
     "output_type": "stream",
     "text": [
      "0.05810046560931361 16.771720730600244\n"
     ]
    }
   ],
   "source": [
    "# Menghitung secara manual untuk memperoleh b0 dan b1\n",
    "# Menghitung nilai rata-rata X dan rata-rata Y\n",
    "mean_x = np.mean(X)\n",
    "mean_y = np.mean(Y)\n",
    "\n",
    "# Menghitung jumlah data\n",
    "n = len(X)\n",
    "\n",
    "# Penggunaan formula perhitungan mencari nilai b0 dan b1\n",
    "numer = 0   #pembilang\n",
    "denom = 0   #penyebut\n",
    "for i in range(n):\n",
    "    numer += (X[i] - mean_x) * (Y[i] - mean_y)\n",
    "    denom += (X[i] - mean_x)**2\n",
    "b1 = numer / denom\n",
    "b0 = mean_y -(b1 * mean_x)\n",
    "\n",
    "# Menampilkan nilai coefficient\n",
    "print(b1, b0)"
   ]
  },
  {
   "cell_type": "code",
   "execution_count": 10,
   "metadata": {},
   "outputs": [
    {
     "data": {
      "image/png": "[encoded data removed]",
      "text/plain": [
       "<Figure size 432x288 with 1 Axes>"
      ]
     },
     "metadata": {
      "needs_background": "light"
     },
     "output_type": "display_data"
    }
   ],
   "source": [
    "# Membuat plot nilai dan garis regresi\n",
    "\n",
    "max_x = np.max(X) + 50\n",
    "min_x = np.min(X) - 50\n",
    "\n",
    "# Menghitung nilai garis grafik x dan y\n",
    "x = np.linspace(min_x, max_x, 100)\n",
    "y = b0 + b1 * x\n",
    "\n",
    "#Garis regresi\n",
    "plt.plot(x, y, color = 'blue', label = 'Regression Line')\n",
    "#Scatter plot\n",
    "plt.scatter(X, Y, c = 'green', label = 'Scatter Plot')\n",
    "\n",
    "plt.xlabel('Biaya Transportasi')\n",
    "plt.ylabel('Jarak Rumah ke Tempat Kerja')\n",
    "plt.legend()\n",
    "plt.show()"
   ]
  },
  {
   "cell_type": "code",
   "execution_count": 17,
   "metadata": {
    "scrolled": true
   },
   "outputs": [
    {
     "data": {
      "text/plain": [
       "[<matplotlib.lines.Line2D at 0x29f88f4b908>]"
      ]
     },
     "execution_count": 17,
     "metadata": {},
     "output_type": "execute_result"
    },
    {
     "data": {
      "image/png": "[encoded data removed]",
      "text/plain": [
       "<Figure size 432x288 with 1 Axes>"
      ]
     },
     "metadata": {
      "needs_background": "light"
     },
     "output_type": "display_data"
    }
   ],
   "source": [
    "plot (X,Y,'go')"
   ]
  },
  {
   "cell_type": "code",
   "execution_count": 18,
   "metadata": {},
   "outputs": [],
   "source": [
    "X = dataset.iloc[:, [5, 6]].values"
   ]
  },
  {
   "cell_type": "code",
   "execution_count": 19,
   "metadata": {
    "scrolled": true
   },
   "outputs": [
    {
     "data": {
      "image/png": "[encoded data removed]",
      "text/plain": [
       "<Figure size 432x288 with 1 Axes>"
      ]
     },
     "metadata": {
      "needs_background": "light"
     },
     "output_type": "display_data"
    }
   ],
   "source": [
    "# Menggunakan metode elbow untuk menentukan angka cluster yang tepat\n",
    "from sklearn.cluster import KMeans\n",
    "wcss = []\n",
    "for i in range(1, 11):\n",
    "    kmeans = KMeans(n_clusters = i, init = 'k-means++', random_state = 42)\n",
    "    kmeans.fit(X)\n",
    "    wcss.append(kmeans.inertia_)\n",
    "plt.plot(range(1, 11), wcss)\n",
    "plt.title('Metode Elbow')\n",
    "plt.xlabel('Jumlah clusters')\n",
    "plt.ylabel('WCSS')\n",
    "plt.show()"
   ]
  },
  {
   "cell_type": "code",
   "execution_count": 20,
   "metadata": {},
   "outputs": [],
   "source": [
    "# Menjalankan K-Means Clustering ke dataset\n",
    "kmeans = KMeans(n_clusters = 5, init = 'k-means++', random_state = 42)\n",
    "y_kmeans = kmeans.fit_predict(X)"
   ]
  },
  {
   "cell_type": "code",
   "execution_count": 22,
   "metadata": {
    "scrolled": true
   },
   "outputs": [
    {
     "data": {
      "image/png": "[encoded data removed]",
      "text/plain": [
       "<Figure size 432x288 with 1 Axes>"
      ]
     },
     "metadata": {
      "needs_background": "light"
     },
     "output_type": "display_data"
    }
   ],
   "source": [
    "# Visualisasi hasil clusters\n",
    "plt.scatter(X[y_kmeans == 0, 0], X[y_kmeans == 0, 1], s = 100, c = 'red', label = 'Cluster 1')\n",
    "plt.scatter(X[y_kmeans == 1, 0], X[y_kmeans == 1, 1], s = 100, c = 'blue', label = 'Cluster 2')\n",
    "plt.scatter(X[y_kmeans == 2, 0], X[y_kmeans == 2, 1], s = 100, c = 'green', label = 'Cluster 3')\n",
    "plt.scatter(X[y_kmeans == 3, 0], X[y_kmeans == 3, 1], s = 100, c = 'cyan', label = 'Cluster 4')\n",
    "plt.scatter(X[y_kmeans == 4, 0], X[y_kmeans == 4, 1], s = 100, c = 'magenta', label = 'Cluster 5')\n",
    "plt.scatter(kmeans.cluster_centers_[:, 0], kmeans.cluster_centers_[:, 1], s = 300, c = 'yellow', label = 'Centroids')\n",
    "plt.title('Clusters Karyawan')\n",
    "plt.xlabel('Biaya Transportasi')\n",
    "plt.ylabel('Jarak Rumah ke Tempat Kerja')\n",
    "plt.legend()\n",
    "plt.show()"
   ]
  },
  {
   "cell_type": "code",
   "execution_count": 31,
   "metadata": {},
   "outputs": [],
   "source": [
    "#menentukan variabel x dan y\n",
    "X = dataset['Indeks Masa Tubuh'].values\n",
    "Y = dataset['Berat'].values"
   ]
  },
  {
   "cell_type": "code",
   "execution_count": 32,
   "metadata": {},
   "outputs": [
    {
     "name": "stdout",
     "output_type": "stream",
     "text": [
      "2.7180161501299547 6.526544838222392\n"
     ]
    }
   ],
   "source": [
    "# Menghitung secara manual untuk memperoleh b0 dan b1\n",
    "# Menghitung nilai rata-rata X dan rata-rata Y\n",
    "mean_x = np.mean(X)\n",
    "mean_y = np.mean(Y)\n",
    "\n",
    "# Menghitung jumlah data\n",
    "n = len(X)\n",
    "\n",
    "# Penggunaan formula perhitungan mencari nilai b0 dan b1\n",
    "numer = 0   #pembilang\n",
    "denom = 0   #penyebut\n",
    "for i in range(n):\n",
    "    numer += (X[i] - mean_x) * (Y[i] - mean_y)\n",
    "    denom += (X[i] - mean_x)**2\n",
    "b1 = numer / denom\n",
    "b0 = mean_y -(b1 * mean_x)\n",
    "\n",
    "# Menampilkan nilai coefficient\n",
    "print(b1, b0)"
   ]
  },
  {
   "cell_type": "code",
   "execution_count": 36,
   "metadata": {
    "scrolled": false
   },
   "outputs": [
    {
     "data": {
      "image/png": "[encoded data removed]",
      "text/plain": [
       "<Figure size 432x288 with 1 Axes>"
      ]
     },
     "metadata": {
      "needs_background": "light"
     },
     "output_type": "display_data"
    }
   ],
   "source": [
    "# Membuat plot nilai dan garis regresi\n",
    "\n",
    "max_x = np.max(X) + 10\n",
    "min_x = np.min(X) - 10\n",
    "\n",
    "# Menghitung nilai garis grafik x dan y\n",
    "x = np.linspace(min_x, max_x, 20)\n",
    "y = b0 + b1 * x\n",
    "\n",
    "#Garis regresi\n",
    "plt.plot(x, y, color = 'blue', label = 'Regression Line')\n",
    "#Scatter plot\n",
    "plt.scatter(X, Y, c = 'green', label = 'Scatter Plot')\n",
    "\n",
    "plt.xlabel('Indeks Masa Tubuh')\n",
    "plt.ylabel('Berat')\n",
    "plt.legend()\n",
    "plt.show()"
   ]
  },
  {
   "cell_type": "code",
   "execution_count": 37,
   "metadata": {},
   "outputs": [],
   "source": [
    "#menentukan variabel x dan y\n",
    "X = dataset['Indeks Masa Tubuh'].values\n",
    "Y = dataset['Tinggi'].values"
   ]
  },
  {
   "cell_type": "code",
   "execution_count": 48,
   "metadata": {},
   "outputs": [
    {
     "name": "stdout",
     "output_type": "stream",
     "text": [
      "-0.17046712188290894 176.66242088255476\n"
     ]
    }
   ],
   "source": [
    "# Menghitung secara manual untuk memperoleh b0 dan b1\n",
    "# Menghitung nilai rata-rata X dan rata-rata Y\n",
    "mean_x = np.mean(X)\n",
    "mean_y = np.mean(Y)\n",
    "\n",
    "# Menghitung jumlah data\n",
    "n = len(X)\n",
    "\n",
    "# Penggunaan formula perhitungan mencari nilai b0 dan b1\n",
    "numer = 0   #pembilang\n",
    "denom = 0   #penyebut\n",
    "for i in range(n):\n",
    "    numer += (X[i] - mean_x) * (Y[i] - mean_y)\n",
    "    denom += (X[i] - mean_x)**2\n",
    "b1 = numer / denom\n",
    "b0 = mean_y -(b1 * mean_x)\n",
    "\n",
    "# Menampilkan nilai coefficient\n",
    "print(b1, b0)"
   ]
  },
  {
   "cell_type": "code",
   "execution_count": 49,
   "metadata": {},
   "outputs": [
    {
     "data": {
      "image/png": "[encoded data removed]",
      "text/plain": [
       "<Figure size 432x288 with 1 Axes>"
      ]
     },
     "metadata": {
      "needs_background": "light"
     },
     "output_type": "display_data"
    }
   ],
   "source": [
    "# Membuat plot nilai dan garis regresi\n",
    "\n",
    "max_x = np.max(X) + 15\n",
    "min_x = np.min(X) - 15\n",
    "\n",
    "# Menghitung nilai garis grafik x dan y\n",
    "x = np.linspace(min_x, max_x, 30)\n",
    "y = b0 + b1 * x\n",
    "\n",
    "#Garis regresi\n",
    "plt.plot(x, y, color = 'blue', label = 'Regression Line')\n",
    "#Scatter plot\n",
    "plt.scatter(X, Y, c = 'green', label = 'Scatter Plot')\n",
    "\n",
    "plt.xlabel('Indeks Masa Tubuh')\n",
    "plt.ylabel('Tinggi')\n",
    "plt.legend()\n",
    "plt.show()"
   ]
  },
  {
   "cell_type": "code",
   "execution_count": 50,
   "metadata": {},
   "outputs": [
    {
     "data": {
      "text/plain": [
       "{4: 'Obesitas', 3: 'Berlebih', 2: 'Normal'}"
      ]
     },
     "execution_count": 50,
     "metadata": {},
     "output_type": "execute_result"
    }
   ],
   "source": [
    "look_up_kategori = dict(zip(dataset.Label_Kategori.unique(), dataset.Kategori.unique()))\n",
    "look_up_kategori"
   ]
  },
  {
   "cell_type": "code",
   "execution_count": 51,
   "metadata": {},
   "outputs": [],
   "source": [
    "feature_names = ['Berat', 'Tinggi']\n",
    "X = dataset[feature_names]\n",
    "y = dataset['Label_Kategori']\n",
    "X_train, X_test, y_train, y_test = train_test_split(X, y, random_state = 0)"
   ]
  },
  {
   "cell_type": "code",
   "execution_count": 52,
   "metadata": {},
   "outputs": [],
   "source": [
    "from sklearn.neighbors import KNeighborsClassifier\n",
    "knn = KNeighborsClassifier(n_neighbors = 5)"
   ]
  },
  {
   "cell_type": "code",
   "execution_count": 53,
   "metadata": {},
   "outputs": [
    {
     "data": {
      "text/plain": [
       "KNeighborsClassifier(algorithm='auto', leaf_size=30, metric='minkowski',\n",
       "           metric_params=None, n_jobs=None, n_neighbors=5, p=2,\n",
       "           weights='uniform')"
      ]
     },
     "execution_count": 53,
     "metadata": {},
     "output_type": "execute_result"
    }
   ],
   "source": [
    "knn.fit(X_train, y_train)"
   ]
  },
  {
   "cell_type": "code",
   "execution_count": 54,
   "metadata": {},
   "outputs": [
    {
     "data": {
      "text/plain": [
       "0.9891891891891892"
      ]
     },
     "execution_count": 54,
     "metadata": {},
     "output_type": "execute_result"
    }
   ],
   "source": [
    "knn.score(X_test, y_test)"
   ]
  },
  {
   "cell_type": "code",
   "execution_count": 55,
   "metadata": {},
   "outputs": [
    {
     "data": {
      "text/plain": [
       "'Obesitas'"
      ]
     },
     "execution_count": 55,
     "metadata": {},
     "output_type": "execute_result"
    }
   ],
   "source": [
    "kategori_prediction = knn.predict([[86,120]])\n",
    "look_up_kategori[kategori_prediction[0]]"
   ]
  },
  {
   "cell_type": "code",
   "execution_count": 56,
   "metadata": {},
   "outputs": [
    {
     "data": {
      "text/plain": [
       "'Obesitas'"
      ]
     },
     "execution_count": 56,
     "metadata": {},
     "output_type": "execute_result"
    }
   ],
   "source": [
    "kategori_prediction = knn.predict([[98,167]])\n",
    "look_up_kategori[kategori_prediction[0]]"
   ]
  },
  {
   "cell_type": "code",
   "execution_count": 57,
   "metadata": {},
   "outputs": [
    {
     "data": {
      "text/plain": [
       "'Berlebih'"
      ]
     },
     "execution_count": 57,
     "metadata": {},
     "output_type": "execute_result"
    }
   ],
   "source": [
    "kategori_prediction = knn.predict([[75,160]])\n",
    "look_up_kategori[kategori_prediction[0]]"
   ]
  },
  {
   "cell_type": "code",
   "execution_count": null,
   "metadata": {},
   "outputs": [],
   "source": []
  }
 ],
 "metadata": {
  "kernelspec": {
   "display_name": "Python 3",
   "language": "python",
   "name": "python3"
  },
  "language_info": {
   "codemirror_mode": {
    "name": "ipython",
    "version": 3
   },
   "file_extension": ".py",
   "mimetype": "text/x-python",
   "name": "python",
   "nbconvert_exporter": "python",
   "pygments_lexer": "ipython3",
   "version": "3.7.3"
  }
 },
 "nbformat": 4,
 "nbformat_minor": 2
}
